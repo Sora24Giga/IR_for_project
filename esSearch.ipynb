{
 "cells": [
  {
   "cell_type": "code",
   "execution_count": 1,
   "metadata": {},
   "outputs": [],
   "source": [
    "from elasticsearch import Elasticsearch, helpers\n",
    "import json\n",
    "import pandas as pd\n",
    "import numpy as np"
   ]
  },
  {
   "cell_type": "code",
   "execution_count": 2,
   "metadata": {},
   "outputs": [
    {
     "data": {
      "text/plain": [
       "RecipeId                           0\n",
       "Name                               0\n",
       "AuthorId                           0\n",
       "AuthorName                         0\n",
       "CookTime                       82545\n",
       "PrepTime                           0\n",
       "TotalTime                          0\n",
       "DatePublished                      0\n",
       "Description                        5\n",
       "Images                             1\n",
       "RecipeCategory                   751\n",
       "Keywords                           0\n",
       "RecipeIngredientQuantities         0\n",
       "RecipeIngredientParts              0\n",
       "AggregatedRating              253223\n",
       "ReviewCount                   247489\n",
       "Calories                           0\n",
       "FatContent                         0\n",
       "SaturatedFatContent                0\n",
       "CholesterolContent                 0\n",
       "SodiumContent                      0\n",
       "CarbohydrateContent                0\n",
       "FiberContent                       0\n",
       "SugarContent                       0\n",
       "ProteinContent                     0\n",
       "RecipeServings                182911\n",
       "RecipeYield                   348071\n",
       "RecipeInstructions                 0\n",
       "dtype: int64"
      ]
     },
     "execution_count": 2,
     "metadata": {},
     "output_type": "execute_result"
    }
   ],
   "source": [
    "df = pd.read_parquet('recipes.parquet')\n",
    "df.isna().sum()"
   ]
  },
  {
   "cell_type": "code",
   "execution_count": 4,
   "metadata": {},
   "outputs": [
    {
     "data": {
      "text/html": [
       "<div>\n",
       "<style scoped>\n",
       "    .dataframe tbody tr th:only-of-type {\n",
       "        vertical-align: middle;\n",
       "    }\n",
       "\n",
       "    .dataframe tbody tr th {\n",
       "        vertical-align: top;\n",
       "    }\n",
       "\n",
       "    .dataframe thead th {\n",
       "        text-align: right;\n",
       "    }\n",
       "</style>\n",
       "<table border=\"1\" class=\"dataframe\">\n",
       "  <thead>\n",
       "    <tr style=\"text-align: right;\">\n",
       "      <th></th>\n",
       "      <th>AggregatedRating</th>\n",
       "      <th>ReviewCount</th>\n",
       "    </tr>\n",
       "  </thead>\n",
       "  <tbody>\n",
       "    <tr>\n",
       "      <th>41924</th>\n",
       "      <td>5.0</td>\n",
       "      <td>3063.0</td>\n",
       "    </tr>\n",
       "    <tr>\n",
       "      <th>1436</th>\n",
       "      <td>5.0</td>\n",
       "      <td>2273.0</td>\n",
       "    </tr>\n",
       "    <tr>\n",
       "      <th>23725</th>\n",
       "      <td>5.0</td>\n",
       "      <td>1692.0</td>\n",
       "    </tr>\n",
       "    <tr>\n",
       "      <th>84057</th>\n",
       "      <td>4.5</td>\n",
       "      <td>1657.0</td>\n",
       "    </tr>\n",
       "    <tr>\n",
       "      <th>35377</th>\n",
       "      <td>5.0</td>\n",
       "      <td>1586.0</td>\n",
       "    </tr>\n",
       "    <tr>\n",
       "      <th>...</th>\n",
       "      <td>...</td>\n",
       "      <td>...</td>\n",
       "    </tr>\n",
       "    <tr>\n",
       "      <th>522512</th>\n",
       "      <td>0.0</td>\n",
       "      <td>0.0</td>\n",
       "    </tr>\n",
       "    <tr>\n",
       "      <th>522513</th>\n",
       "      <td>0.0</td>\n",
       "      <td>0.0</td>\n",
       "    </tr>\n",
       "    <tr>\n",
       "      <th>522514</th>\n",
       "      <td>0.0</td>\n",
       "      <td>0.0</td>\n",
       "    </tr>\n",
       "    <tr>\n",
       "      <th>522515</th>\n",
       "      <td>0.0</td>\n",
       "      <td>0.0</td>\n",
       "    </tr>\n",
       "    <tr>\n",
       "      <th>522516</th>\n",
       "      <td>0.0</td>\n",
       "      <td>0.0</td>\n",
       "    </tr>\n",
       "  </tbody>\n",
       "</table>\n",
       "<p>522517 rows × 2 columns</p>\n",
       "</div>"
      ],
      "text/plain": [
       "        AggregatedRating  ReviewCount\n",
       "41924                5.0       3063.0\n",
       "1436                 5.0       2273.0\n",
       "23725                5.0       1692.0\n",
       "84057                4.5       1657.0\n",
       "35377                5.0       1586.0\n",
       "...                  ...          ...\n",
       "522512               0.0          0.0\n",
       "522513               0.0          0.0\n",
       "522514               0.0          0.0\n",
       "522515               0.0          0.0\n",
       "522516               0.0          0.0\n",
       "\n",
       "[522517 rows x 2 columns]"
      ]
     },
     "execution_count": 4,
     "metadata": {},
     "output_type": "execute_result"
    }
   ],
   "source": [
    "df[['AggregatedRating','ReviewCount']].sort_values(by='ReviewCount', ascending=False).fillna(0)"
   ]
  },
  {
   "cell_type": "code",
   "execution_count": 5,
   "metadata": {},
   "outputs": [
    {
     "data": {
      "text/plain": [
       "RecipeId                      0\n",
       "Name                          0\n",
       "AuthorId                      0\n",
       "AuthorName                    0\n",
       "CookTime                      0\n",
       "PrepTime                      0\n",
       "TotalTime                     0\n",
       "DatePublished                 0\n",
       "Description                   0\n",
       "Images                        0\n",
       "RecipeCategory                0\n",
       "Keywords                      0\n",
       "RecipeIngredientQuantities    0\n",
       "RecipeIngredientParts         0\n",
       "AggregatedRating              0\n",
       "ReviewCount                   0\n",
       "Calories                      0\n",
       "FatContent                    0\n",
       "SaturatedFatContent           0\n",
       "CholesterolContent            0\n",
       "SodiumContent                 0\n",
       "CarbohydrateContent           0\n",
       "FiberContent                  0\n",
       "SugarContent                  0\n",
       "ProteinContent                0\n",
       "RecipeServings                0\n",
       "RecipeYield                   0\n",
       "RecipeInstructions            0\n",
       "dtype: int64"
      ]
     },
     "execution_count": 5,
     "metadata": {},
     "output_type": "execute_result"
    }
   ],
   "source": [
    "cleaned_df = df\n",
    "cleaned_df['CookTime'] = cleaned_df['CookTime'].fillna('')\n",
    "cleaned_df['AggregatedRating'] = cleaned_df['AggregatedRating'].fillna(0)\n",
    "cleaned_df['ReviewCount'] = cleaned_df['ReviewCount'].fillna(0)\n",
    "cleaned_df['Description'] = cleaned_df['Description'].fillna('')\n",
    "cleaned_df['RecipeCategory'] = cleaned_df['RecipeCategory'].fillna('')\n",
    "cleaned_df['RecipeServings'] = cleaned_df['RecipeServings'].fillna(0)\n",
    "cleaned_df['RecipeYield'] = cleaned_df['RecipeYield'].fillna('0')\n",
    "for row in cleaned_df.loc[cleaned_df['Images'].isna()].index:\n",
    "    cleaned_df.at[row, 'Images'] = []\n",
    "cleaned_df.isna().sum()"
   ]
  },
  {
   "cell_type": "code",
   "execution_count": 6,
   "metadata": {},
   "outputs": [
    {
     "data": {
      "text/plain": [
       "array(['0', '0', '0', ..., '0', '20 rolls', '0'], dtype=object)"
      ]
     },
     "execution_count": 6,
     "metadata": {},
     "output_type": "execute_result"
    }
   ],
   "source": [
    "cleaned_df['RecipeYield'].values"
   ]
  },
  {
   "cell_type": "code",
   "execution_count": 7,
   "metadata": {},
   "outputs": [],
   "source": [
    "cleaned_df.to_parquet('no_na_recipes.parquet.gzip', compression='gzip')"
   ]
  },
  {
   "cell_type": "code",
   "execution_count": 11,
   "metadata": {},
   "outputs": [],
   "source": [
    "class es_indexer:\n",
    "    def __init__(self):\n",
    "        self.df = pd.read_parquet('no_na_recipes.parquet.gzip')\n",
    "        self.es_client = Elasticsearch(\"https://localhost:9200\", basic_auth=(\"elastic\",\"ScW45_K41iKePloVvMat\"), ca_certs=\"~/http_ca.crt\")\n",
    "\n",
    "    def run_indexer(self):\n",
    "        self.es_client.indices.create(index='foodir', ignore=400)\n",
    "        self.es_client.indices.delete(index='foodir', ignore=[400, 404])\n",
    "        self.df['_index'] = 'foodir'\n",
    "        j = json.loads(self.df.to_json(orient='records'))\n",
    "        helpers.bulk(self.es_client, j)"
   ]
  },
  {
   "cell_type": "code",
   "execution_count": 12,
   "metadata": {},
   "outputs": [
    {
     "name": "stderr",
     "output_type": "stream",
     "text": [
      "/var/folders/fq/1w9qg56n37q1h8dkdmps3n100000gn/T/ipykernel_46431/1385807689.py:7: DeprecationWarning: Passing transport options in the API method is deprecated. Use 'Elasticsearch.options()' instead.\n",
      "  self.es_client.indices.create(index='foodir', ignore=400)\n",
      "/var/folders/fq/1w9qg56n37q1h8dkdmps3n100000gn/T/ipykernel_46431/1385807689.py:8: DeprecationWarning: Passing transport options in the API method is deprecated. Use 'Elasticsearch.options()' instead.\n",
      "  self.es_client.indices.delete(index='foodir', ignore=[400, 404])\n"
     ]
    }
   ],
   "source": [
    "es = es_indexer()\n",
    "es.run_indexer()"
   ]
  }
 ],
 "metadata": {
  "kernelspec": {
   "display_name": "SE_411",
   "language": "python",
   "name": "python3"
  },
  "language_info": {
   "codemirror_mode": {
    "name": "ipython",
    "version": 3
   },
   "file_extension": ".py",
   "mimetype": "text/x-python",
   "name": "python",
   "nbconvert_exporter": "python",
   "pygments_lexer": "ipython3",
   "version": "3.11.5"
  }
 },
 "nbformat": 4,
 "nbformat_minor": 2
}
